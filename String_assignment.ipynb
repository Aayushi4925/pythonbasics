{
 "cells": [
  {
   "cell_type": "markdown",
   "id": "e14e9fe9",
   "metadata": {},
   "source": [
    "# String Assisgnment"
   ]
  },
  {
   "cell_type": "markdown",
   "id": "1bf6f6de",
   "metadata": {},
   "source": [
    "# 1.Define different types of variables (integer, boolean,string, float, complex) and print their values and their types"
   ]
  },
  {
   "cell_type": "code",
   "execution_count": 1,
   "id": "138f0d1c",
   "metadata": {},
   "outputs": [
    {
     "name": "stdout",
     "output_type": "stream",
     "text": [
      "34 <class 'int'>\n",
      "True <class 'bool'>\n",
      "abc <class 'str'>\n",
      "3.4 <class 'float'>\n",
      "(1+2j) <class 'complex'>\n"
     ]
    }
   ],
   "source": [
    "#defining variables of different types\n",
    "\n",
    "int_var = 34  \n",
    "bool_var = True\n",
    "str_var = \"abc\"\n",
    "float_var = 3.4\n",
    "com_var = 1+2j\n",
    "\n",
    "#printing values and types of the variables\n",
    "\n",
    "print(int_var,type(int_var))\n",
    "print(bool_var,type(bool_var))\n",
    "print(str_var,type(str_var))\n",
    "print(float_var,type(float_var))\n",
    "print(com_var,type(com_var))"
   ]
  },
  {
   "cell_type": "markdown",
   "id": "3abe44cb",
   "metadata": {},
   "source": [
    "# 2. In the above question convert float variable into integer type and integer variable into str type."
   ]
  },
  {
   "cell_type": "code",
   "execution_count": 3,
   "id": "e7d06759",
   "metadata": {},
   "outputs": [
    {
     "name": "stdout",
     "output_type": "stream",
     "text": [
      "converted to integer type 3\n",
      "converted to string 34\n"
     ]
    }
   ],
   "source": [
    "#converting float to integer variable\n",
    "\n",
    "con_to_int = int(float_var)\n",
    "print(\"converted to integer type\",con_to_int)\n",
    "\n",
    "#integer to string\n",
    "\n",
    "con_to_str = str(int_var)\n",
    "print(\"converted to string\",con_to_str)"
   ]
  },
  {
   "cell_type": "markdown",
   "id": "fde90210",
   "metadata": {},
   "source": [
    "# 3. What will you get converting “abc” into boolean ?"
   ]
  },
  {
   "cell_type": "code",
   "execution_count": 5,
   "id": "f2808c60",
   "metadata": {},
   "outputs": [
    {
     "name": "stdout",
     "output_type": "stream",
     "text": [
      "True\n"
     ]
    }
   ],
   "source": [
    "str1 = \"abc\"\n",
    "str1 = bool(str1)\n",
    "print(str1)   #converting abc to boolean returning true"
   ]
  },
  {
   "cell_type": "markdown",
   "id": "7c707e56",
   "metadata": {},
   "source": [
    "# 4.Print the substring from index 2 to index 4 for any given string. For example (llo) from “Hello World”"
   ]
  },
  {
   "cell_type": "code",
   "execution_count": 6,
   "id": "c5381890",
   "metadata": {},
   "outputs": [
    {
     "name": "stdout",
     "output_type": "stream",
     "text": [
      "tif\n"
     ]
    }
   ],
   "source": [
    "str2 = \"Artifical Intelligence\"\n",
    "\n",
    "#printing from 2 to 4 index\n",
    "\n",
    "print(str2[2:5])"
   ]
  },
  {
   "cell_type": "markdown",
   "id": "31807fb4",
   "metadata": {},
   "source": [
    "# 5. Write a program to check a substring in a given string. For example 'e' is present in the word 'Umbrella'"
   ]
  },
  {
   "cell_type": "code",
   "execution_count": 9,
   "id": "a49f5ae9",
   "metadata": {},
   "outputs": [
    {
     "name": "stdout",
     "output_type": "stream",
     "text": [
      "True\n",
      "False\n"
     ]
    }
   ],
   "source": [
    "#returning true if substring is present in string and false if not\n",
    "\n",
    "str3 = \"Umbrella\"\n",
    "print(\"e\" in str3)  \n",
    "\n",
    "str4 = \"Data Science\"\n",
    "print(\"ai\" in str4)"
   ]
  },
  {
   "cell_type": "markdown",
   "id": "d95ccc50",
   "metadata": {},
   "source": [
    "# 6.Use the correct comparison operator to check if 5 is not equal to 10."
   ]
  },
  {
   "cell_type": "code",
   "execution_count": 10,
   "id": "f1187d0e",
   "metadata": {},
   "outputs": [
    {
     "name": "stdout",
     "output_type": "stream",
     "text": [
      "True\n"
     ]
    }
   ],
   "source": [
    "print( 5 !=10 )  #using not equal operator"
   ]
  },
  {
   "cell_type": "markdown",
   "id": "0b9cbffd",
   "metadata": {},
   "source": [
    "# 7. Write a program to get a string from the user and sort the words of the string in alphabetical order."
   ]
  },
  {
   "cell_type": "code",
   "execution_count": 13,
   "id": "901a6266",
   "metadata": {},
   "outputs": [
    {
     "name": "stdout",
     "output_type": "stream",
     "text": [
      "Enter a stringworld\n",
      "Original string:  world\n",
      "String in Alphabetical order:  d l o r w\n"
     ]
    }
   ],
   "source": [
    "input_user = str(input(\"Enter a string\"))   #taking input from user\n",
    "sorted_str = sorted(input_user)   #using sorted function which returns list\n",
    "sorted_str = \" \".join(sorted_str)   #converting list to string again\n",
    "print(\"Original string: \",input_user)\n",
    "print(\"String in Alphabetical order: \",sorted_str)"
   ]
  },
  {
   "cell_type": "markdown",
   "id": "136fbdf0",
   "metadata": {},
   "source": [
    "# 8. Join two words using special characters like ‘ – ‘ ,’#’"
   ]
  },
  {
   "cell_type": "code",
   "execution_count": 16,
   "id": "ecc7b860",
   "metadata": {},
   "outputs": [
    {
     "name": "stdout",
     "output_type": "stream",
     "text": [
      "Hello-World\n",
      "Hello#World\n",
      "Hello@@@@@@World\n"
     ]
    }
   ],
   "source": [
    "s1 = \"Hello\"\n",
    "s2 = \"World\"\n",
    "\n",
    "\n",
    "print(s1+\"-\"+s2)\n",
    "print(s1+\"#\"+s2)\n",
    "print(s1+\"@@@@@@\"+s2)"
   ]
  },
  {
   "cell_type": "markdown",
   "id": "afbf5fd1",
   "metadata": {},
   "source": [
    "# 9.Find all occurrences of “INDIA” in a given string ignoring the case. input_str = \"Welcome to INDIA. india is awesome."
   ]
  },
  {
   "cell_type": "code",
   "execution_count": 19,
   "id": "913d8719",
   "metadata": {},
   "outputs": [
    {
     "name": "stdout",
     "output_type": "stream",
     "text": [
      "Index of occurances of INDIA and india [11, 18]\n"
     ]
    }
   ],
   "source": [
    "input_str = \"Welcome to INDIA. india is awesome.\"\n",
    "\n",
    "list_of_index = []  #new list\n",
    "\n",
    "#using startwith function to find the index in india or INDIA and appending to that list\n",
    "for i in range(len(input_str)):\n",
    "    if(input_str.startswith(\"INDIA\",i) or input_str.startswith('india',i)):\n",
    "        list_of_index.append(i)\n",
    "print(\"Index of occurances of INDIA and india\",list_of_index)"
   ]
  },
  {
   "cell_type": "markdown",
   "id": "deb6b5da",
   "metadata": {},
   "source": [
    "# 10.Replace first two ‘l’ with ‘n’ in ‘Hello World’"
   ]
  },
  {
   "cell_type": "code",
   "execution_count": 20,
   "id": "83c6d216",
   "metadata": {},
   "outputs": [
    {
     "name": "stdout",
     "output_type": "stream",
     "text": [
      "Henno World\n"
     ]
    }
   ],
   "source": [
    "s = \"Hello World\"\n",
    "s = s.replace(s[2:4],\"nn\")  #replace with the help of slicing\n",
    "print(s)"
   ]
  },
  {
   "cell_type": "markdown",
   "id": "092ee97c",
   "metadata": {},
   "source": [
    "# 11. Write a program that takes your full name as input and displays the abbreviations of the first and middle names except the last name which is displayed as it is. For example, if your name is Robert Brett Roser, then the output should be R.B.Roser."
   ]
  },
  {
   "cell_type": "code",
   "execution_count": 5,
   "id": "35138ba5",
   "metadata": {},
   "outputs": [
    {
     "name": "stdout",
     "output_type": "stream",
     "text": [
      "Enter your name   Robert Brett Roser\n",
      "R . B . Roser\n"
     ]
    }
   ],
   "source": [
    "name = str(input(\"Enter your name   \"))\n",
    "\n",
    "\n",
    "list1=name.split(\" \")\n",
    "\n",
    "print(list1[0][0],\".\",list1[1][0],\".\",list1[2])\n",
    "\n"
   ]
  },
  {
   "cell_type": "markdown",
   "id": "c73d0540",
   "metadata": {},
   "source": [
    "# 12. Write a program to check if a given string is a Palindrome. A palindrome reads the same from front and back e.g.-aba, ccaacc, mom, etc."
   ]
  },
  {
   "cell_type": "code",
   "execution_count": 22,
   "id": "9be37c35",
   "metadata": {},
   "outputs": [
    {
     "name": "stdout",
     "output_type": "stream",
     "text": [
      "Enter a string    aba\n",
      "string is palindrome\n"
     ]
    }
   ],
   "source": [
    "input_string = str(input(\"Enter a string    \")) \n",
    "\n",
    "rev = input_string[::-1]  #reversing the list\n",
    "\n",
    "#checking the reverse and original string for palindrome\n",
    "\n",
    "if(input_string==rev):\n",
    "    print(\"string is palindrome\")\n",
    "else:\n",
    "    print(\"Not a palindrome\")"
   ]
  }
 ],
 "metadata": {
  "kernelspec": {
   "display_name": "Python 3 (ipykernel)",
   "language": "python",
   "name": "python3"
  },
  "language_info": {
   "codemirror_mode": {
    "name": "ipython",
    "version": 3
   },
   "file_extension": ".py",
   "mimetype": "text/x-python",
   "name": "python",
   "nbconvert_exporter": "python",
   "pygments_lexer": "ipython3",
   "version": "3.9.7"
  }
 },
 "nbformat": 4,
 "nbformat_minor": 5
}
