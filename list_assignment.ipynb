{
 "cells": [
  {
   "cell_type": "markdown",
   "id": "6f626f02",
   "metadata": {},
   "source": [
    "# 1. City = [‘Gurgaon’, ’Mumbai’, ’Bangalore’]\n",
    "\n",
    "i) Print the second item from the list.\n",
    "ii) Change the value from \"Gurgaon\" to \"Kerala\"\n",
    "iii) Remove the last element of the list."
   ]
  },
  {
   "cell_type": "code",
   "execution_count": 7,
   "id": "65b29a4a",
   "metadata": {},
   "outputs": [
    {
     "name": "stdout",
     "output_type": "stream",
     "text": [
      "Mumbai\n"
     ]
    }
   ],
   "source": [
    " City = ['Gurgaon','Mumbai','Bangalore']\n",
    "    \n",
    "#1)\n",
    "print(City[1])"
   ]
  },
  {
   "cell_type": "code",
   "execution_count": 12,
   "id": "ff86ff9f",
   "metadata": {},
   "outputs": [
    {
     "name": "stdout",
     "output_type": "stream",
     "text": [
      "['Kerela', 'Mumbai', 'Bangalore']\n"
     ]
    }
   ],
   "source": [
    "#ii)\n",
    "\n",
    "City.remove('Gurgaon')\n",
    "City.insert(0,'Kerela')\n",
    "print(City)\n"
   ]
  },
  {
   "cell_type": "code",
   "execution_count": 13,
   "id": "c01ef0f0",
   "metadata": {},
   "outputs": [
    {
     "name": "stdout",
     "output_type": "stream",
     "text": [
      "['Kerela', 'Mumbai']\n"
     ]
    }
   ],
   "source": [
    "#iii)\n",
    "\n",
    "City.remove(City[-1])\n",
    "print(City)"
   ]
  },
  {
   "cell_type": "markdown",
   "id": "5d24465b",
   "metadata": {},
   "source": [
    "# 2. Use negative indexing to print the last item in the list. Make a list by yourself."
   ]
  },
  {
   "cell_type": "code",
   "execution_count": 14,
   "id": "0e7a604c",
   "metadata": {},
   "outputs": [
    {
     "name": "stdout",
     "output_type": "stream",
     "text": [
      "Orange\n"
     ]
    }
   ],
   "source": [
    "fruits = [\"Apple\",\"Mango\",\"Kiwi\",\"Orange\"]\n",
    "\n",
    "print(fruits[-1])"
   ]
  },
  {
   "cell_type": "markdown",
   "id": "d6186ffd",
   "metadata": {},
   "source": [
    "# 3. Use a range of indexes to print the third, fourth, and fifth  item in the list. Make a list by yourself."
   ]
  },
  {
   "cell_type": "code",
   "execution_count": 16,
   "id": "44e6097b",
   "metadata": {},
   "outputs": [
    {
     "name": "stdout",
     "output_type": "stream",
     "text": [
      "['Kiwi', 'Orange', 'Banana']\n"
     ]
    }
   ],
   "source": [
    "fruits = [\"Apple\",\"Mango\",\"Kiwi\",\"Orange\",\"Banana\",\"Pineapple\"]\n",
    "\n",
    "print(fruits[2:5])"
   ]
  },
  {
   "cell_type": "markdown",
   "id": "8e0c262a",
   "metadata": {},
   "source": [
    "# 4. Remove the last element from the city list"
   ]
  },
  {
   "cell_type": "code",
   "execution_count": 17,
   "id": "e04c647f",
   "metadata": {},
   "outputs": [
    {
     "name": "stdout",
     "output_type": "stream",
     "text": [
      "['Kerela']\n"
     ]
    }
   ],
   "source": [
    "City.remove(City[-1])\n",
    "\n",
    "print(City)"
   ]
  },
  {
   "cell_type": "markdown",
   "id": "6a6d30c4",
   "metadata": {},
   "source": [
    "# 5. fruits=[‘apple’,’lichi’,’guava’,’cherry’,’mango’,’watermelon’,’banana’]\n",
    "i) Add \"orange\" at the end of the above list.\n",
    "ii) Add \"lemon\" as the second item in the fruits list"
   ]
  },
  {
   "cell_type": "code",
   "execution_count": 18,
   "id": "a1761aeb",
   "metadata": {},
   "outputs": [
    {
     "name": "stdout",
     "output_type": "stream",
     "text": [
      "['apple', 'lichi', 'guava', 'cherry', 'mango', 'watermelon', 'banana', 'orange']\n"
     ]
    }
   ],
   "source": [
    "fruits=['apple','lichi','guava','cherry','mango','watermelon','banana']\n",
    "\n",
    "#i)\n",
    "\n",
    "fruits.append('orange')\n",
    "print(fruits)"
   ]
  },
  {
   "cell_type": "code",
   "execution_count": 19,
   "id": "bb2ee9ff",
   "metadata": {},
   "outputs": [
    {
     "name": "stdout",
     "output_type": "stream",
     "text": [
      "['apple', 'lemon', 'lichi', 'guava', 'cherry', 'mango', 'watermelon', 'banana', 'orange']\n"
     ]
    }
   ],
   "source": [
    "#ii)\n",
    "\n",
    "fruits.insert(1,\"lemon\")\n",
    "print(fruits)"
   ]
  },
  {
   "cell_type": "markdown",
   "id": "e49f816b",
   "metadata": {},
   "source": [
    "# 6. Remove ‘cherry’ from the fruit list given above."
   ]
  },
  {
   "cell_type": "code",
   "execution_count": 20,
   "id": "18729369",
   "metadata": {},
   "outputs": [
    {
     "name": "stdout",
     "output_type": "stream",
     "text": [
      "['apple', 'lemon', 'lichi', 'guava', 'mango', 'watermelon', 'banana', 'orange']\n"
     ]
    }
   ],
   "source": [
    "fruits.remove(\"cherry\")\n",
    "\n",
    "print(fruits)"
   ]
  },
  {
   "cell_type": "markdown",
   "id": "50749964",
   "metadata": {},
   "source": [
    "# 7. Write the python program to let the user input a list of numbers and print the list in descending order."
   ]
  },
  {
   "cell_type": "code",
   "execution_count": 25,
   "id": "648dba53",
   "metadata": {},
   "outputs": [
    {
     "name": "stdout",
     "output_type": "stream",
     "text": [
      "enter number of elements in list   10\n",
      "Enter the elements:   \n",
      "1\n",
      "12\n",
      "32\n",
      "45\n",
      "65\n",
      "14\n",
      "78\n",
      "98\n",
      "5\n",
      "0\n",
      "[98, 78, 65, 45, 32, 14, 12, 5, 1, 0]\n"
     ]
    }
   ],
   "source": [
    "n  = int(input(\"enter number of elements in list   \"))   #number of elements\n",
    "\n",
    "print(\"Enter the elements:   \")\n",
    "\n",
    "l = []\n",
    "\n",
    "for i in range(n):    #taking elements from user and inserting in list\n",
    "    t = int(input())\n",
    "    l.append(t)\n",
    "\n",
    "l.sort(reverse=True)   #sort in descending order\n",
    "print(l)"
   ]
  },
  {
   "cell_type": "markdown",
   "id": "c9cbe009",
   "metadata": {},
   "source": [
    "# 8. Write the python program to let the user input two lists and combine both the lists."
   ]
  },
  {
   "cell_type": "code",
   "execution_count": 31,
   "id": "d8a0ecde",
   "metadata": {},
   "outputs": [
    {
     "name": "stdout",
     "output_type": "stream",
     "text": [
      "enter number of elements for first list   5\n",
      "Enter the elements:   \n",
      "13\n",
      "21\n",
      "mumbai\n",
      "orange\n",
      "1\n",
      "enter number of elements for second list   4\n",
      "Enter the elements:   \n",
      "1\n",
      "24\n",
      "rohit\n",
      "kiwi\n",
      "-----new list------\n",
      "['13', '21', 'mumbai', 'orange', '1', '1', '24', 'rohit', 'kiwi']\n"
     ]
    }
   ],
   "source": [
    "n  = int(input(\"enter number of elements for first list   \"))   #number of elements for first list\n",
    "\n",
    "print(\"Enter the elements:   \")\n",
    "\n",
    "l1 = []\n",
    "\n",
    "for i in range(n):    #taking elements from user and inserting in list\n",
    "    t = input()\n",
    "    l1.append(t)\n",
    "\n",
    "m  = int(input(\"enter number of elements for second list   \"))   #number of elements for second list\n",
    "\n",
    "print(\"Enter the elements:   \")\n",
    "\n",
    "l2 = []\n",
    "\n",
    "for i in range(m):    #taking elements from user and inserting in list\n",
    "    t =input()\n",
    "    l2.append(t)\n",
    "    \n",
    "#combining two lists\n",
    "print(\"-----new list------\")\n",
    "l3 = l1+l2\n",
    "print(l3)"
   ]
  },
  {
   "cell_type": "markdown",
   "id": "93e4100f",
   "metadata": {},
   "source": [
    "# 9. List = [10, 45, 78, 11, 9, 23]. Shuffle this list."
   ]
  },
  {
   "cell_type": "code",
   "execution_count": 32,
   "id": "c580eeb6",
   "metadata": {},
   "outputs": [
    {
     "name": "stdout",
     "output_type": "stream",
     "text": [
      "[9, 23, 11, 78, 45, 10]\n"
     ]
    }
   ],
   "source": [
    "import random #importing lib for shuffle function\n",
    "\n",
    "l = [10, 45, 78, 11, 9, 23]\n",
    "random.shuffle(l)\n",
    "\n",
    "print(l)"
   ]
  },
  {
   "cell_type": "markdown",
   "id": "3c349354",
   "metadata": {},
   "source": [
    "# 10. x = [10, [3.141, 20, [30, 'baz', 2.718]], 'foo']\n",
    "i) What is the expression that returns the 'z' in 'baz'?\n",
    "ii) What expression returns the list ['baz', 2.718]?"
   ]
  },
  {
   "cell_type": "code",
   "execution_count": 35,
   "id": "00ea087f",
   "metadata": {},
   "outputs": [
    {
     "name": "stdout",
     "output_type": "stream",
     "text": [
      "z\n"
     ]
    }
   ],
   "source": [
    "#i)\n",
    "x = [10, [3.141, 20, [30, 'baz', 2.718]], 'foo']\n",
    "\n",
    "print(x[1][2][1][-1])\n"
   ]
  },
  {
   "cell_type": "code",
   "execution_count": 36,
   "id": "0cc8c0e3",
   "metadata": {},
   "outputs": [
    {
     "name": "stdout",
     "output_type": "stream",
     "text": [
      "['baz', 2.718]\n"
     ]
    }
   ],
   "source": [
    "#ii)\n",
    "\n",
    "print(x[1][2][1:])"
   ]
  },
  {
   "cell_type": "markdown",
   "id": "88e0992a",
   "metadata": {},
   "source": [
    "# 11. Extract element 20 from the above list."
   ]
  },
  {
   "cell_type": "code",
   "execution_count": 37,
   "id": "a1d9cb11",
   "metadata": {},
   "outputs": [
    {
     "name": "stdout",
     "output_type": "stream",
     "text": [
      "20\n"
     ]
    }
   ],
   "source": [
    "print(x[1][1])"
   ]
  },
  {
   "cell_type": "markdown",
   "id": "083c143e",
   "metadata": {},
   "source": [
    "# 12. You have a list a = [1, 2, 7, 8]\n",
    "Write a Python statement using slice assignment that will fill in\n",
    "the missing values so that a equals [1, 2, 3, 4, 5, 6, 7, 8]"
   ]
  },
  {
   "cell_type": "code",
   "execution_count": 40,
   "id": "7265cd5a",
   "metadata": {},
   "outputs": [
    {
     "name": "stdout",
     "output_type": "stream",
     "text": [
      "[1, 2, 3, 4, 5, 6, 7, 8]\n"
     ]
    }
   ],
   "source": [
    "a = [1, 2, 7, 8]\n",
    "\n",
    "a[2:6] = [3,4,5,6]\n",
    "\n",
    "a[6:8] = [7,8]\n",
    "\n",
    "print(a)"
   ]
  },
  {
   "cell_type": "code",
   "execution_count": null,
   "id": "e6b164df",
   "metadata": {},
   "outputs": [],
   "source": []
  }
 ],
 "metadata": {
  "kernelspec": {
   "display_name": "Python 3 (ipykernel)",
   "language": "python",
   "name": "python3"
  },
  "language_info": {
   "codemirror_mode": {
    "name": "ipython",
    "version": 3
   },
   "file_extension": ".py",
   "mimetype": "text/x-python",
   "name": "python",
   "nbconvert_exporter": "python",
   "pygments_lexer": "ipython3",
   "version": "3.9.7"
  }
 },
 "nbformat": 4,
 "nbformat_minor": 5
}
